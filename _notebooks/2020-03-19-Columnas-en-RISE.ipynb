{
 "cells": [
  {
   "cell_type": "markdown",
   "metadata": {
    "slideshow": {
     "slide_type": "skip"
    }
   },
   "source": [
    "# Usando columnas en RISE\n",
    "> ¿Como poner columnas en RISE?\n",
    "\n",
    "- badges: true\n",
    "- comments: true\n",
    "- categories: [rise, html, jupyter]"
   ]
  },
  {
   "cell_type": "markdown",
   "metadata": {
    "slideshow": {
     "slide_type": "slide"
    }
   },
   "source": [
    "Uno de los problemas más comunes en la transición de creación de presentaciones (PowerPoint o Google Slides) es poder usar columnas. Por defecto, el texto ocupa toda la pantalla: "
   ]
  },
  {
   "cell_type": "markdown",
   "metadata": {
    "slideshow": {
     "slide_type": "slide"
    }
   },
   "source": [
    "## Titulo 1 \n",
    "\n",
    "### Subtítulo 1\n",
    "\n",
    "<br>\n",
    "\n",
    "Lorem ipsum dolor sit amet, consectetur adipiscing elit, sed do eiusmod tempor incididunt ut labore et dolore magna aliqua. Ut enim ad minim veniam, quis nostrud exercitation ullamco laboris nisi ut aliquip ex ea commodo consequat. Duis aute irure dolor in reprehenderit in voluptate velit esse cillum dolore eu fugiat nulla pariatur. Excepteur sint occaecat cupidatat non proident, sunt in culpa qui officia deserunt mollit anim id est laborum.\n",
    "\n",
    "Curabitur pretium tincidunt lacus. Nulla gravida orci a odio. Nullam varius, turpis et commodo pharetra, est eros bibendum elit, nec luctus magna felis sollicitudin mauris. Integer in mauris eu nibh euismod gravida. Duis ac tellus et risus vulputate vehicula. Donec lobortis risus a elit. Etiam tempor. Ut ullamcorper, ligula eu tempor congue, eros est euismod turpis, id tincidunt sapien risus a quam."
   ]
  },
  {
   "cell_type": "markdown",
   "metadata": {
    "slideshow": {
     "slide_type": "slide"
    }
   },
   "source": [
    "Para usar columnas, basta usar un poco de html:\n",
    "\n",
    "```html\n",
    "<div style=\"float: left; width: 50%;\">\n",
    "LEFT COLUMN CONTENT\n",
    "</div>\n",
    "<div style=\"float: right; width: 50%;\">\n",
    "RIGHT COLUMN CONTENT\n",
    "</div>\n",
    "```\n",
    "\n",
    "Lo anterior puede aplicarse a texto, imágenes o videos."
   ]
  },
  {
   "cell_type": "markdown",
   "metadata": {
    "slideshow": {
     "slide_type": "slide"
    }
   },
   "source": [
    "## Título\n",
    "### Subtítulo\n",
    "\n",
    "<br>\n",
    "\n",
    "<div style=\"float: left; width: 50%;\">\n",
    "Lorem ipsum dolor sit amet, consectetur adipiscing elit, sed do eiusmod tempor incididunt ut labore et dolore magna aliqua. Ut enim ad minim veniam, quis nostrud exercitation ullamco laboris nisi ut aliquip ex ea commodo consequat. Duis aute irure dolor in reprehenderit in voluptate velit esse cillum dolore eu fugiat nulla pariatur. Excepteur sint occaecat cupidatat non proident, sunt in culpa qui officia deserunt mollit anim id est laborum.\n",
    "</div>\n",
    "<div style=\"float: right; width: 50%;\">\n",
    "Curabitur pretium tincidunt lacus. Nulla gravida orci a odio. Nullam varius, turpis et commodo pharetra, est eros bibendum elit, nec luctus magna felis sollicitudin mauris. Integer in mauris eu nibh euismod gravida. Duis ac tellus et risus vulputate vehicula. Donec lobortis risus a elit. Etiam tempor. Ut ullamcorper, ligula eu tempor congue, eros est euismod turpis, id tincidunt sapien risus a quam.\n",
    "</div>"
   ]
  },
  {
   "cell_type": "markdown",
   "metadata": {
    "slideshow": {
     "slide_type": "slide"
    }
   },
   "source": [
    "## Título 2\n",
    "### Subtítulo 2\n",
    "\n",
    "<br>\n",
    "\n",
    "<div style=\"float: left; width: 48%;\">\n",
    "Lorem ipsum dolor sit amet, consectetur adipiscing elit, sed do eiusmod tempor incididunt ut labore et dolore magna aliqua. Ut enim ad minim veniam, quis nostrud exercitation ullamco laboris nisi ut aliquip ex ea commodo consequat. Duis aute irure dolor in reprehenderit in voluptate velit esse cillum dolore eu fugiat nulla pariatur. Excepteur sint occaecat cupidatat non proident, sunt in culpa qui officia deserunt mollit anim id est laborum.\n",
    "\n",
    "<br>\n",
    "\n",
    "Curabitur pretium tincidunt lacus. Nulla gravida orci a odio. Nullam varius, turpis et commodo pharetra, est eros bibendum elit, nec luctus magna felis sollicitudin mauris. Integer in mauris eu nibh euismod gravida. Duis ac tellus et risus vulputate vehicula. Donec lobortis risus a elit. Etiam tempor. Ut ullamcorper, ligula eu tempor congue, eros est euismod turpis, id tincidunt sapien risus a quam.\n",
    "</div>\n",
    "<div style=\"float: right; width: 48%;\">\n",
    "\n",
    "![Lore Ipsum image](columns/lore_ipsum.png)\n",
    "\n",
    "</div>"
   ]
  },
  {
   "cell_type": "markdown",
   "metadata": {
    "slideshow": {
     "slide_type": "slide"
    }
   },
   "source": [
    "## Título 3\n",
    "### Subtítulo 3\n",
    "\n",
    "<br>\n",
    "\n",
    "<div style=\"float: left; width: 50%;\">\n",
    "\n",
    "La imagen de la derecha \n",
    "fue creado con el siguiente código:\n",
    "\n",
    "```html\n",
    "![Lore Ipsum image](columns/lore_ipsum.png)\n",
    "```\n",
    "    \n",
    "</div>\n",
    "<div style=\"float: right; width: 50%;\">\n",
    "\n",
    "![Lore Ipsum image](columns/lore_ipsum.png)\n",
    "</div>"
   ]
  },
  {
   "cell_type": "markdown",
   "metadata": {
    "slideshow": {
     "slide_type": "slide"
    }
   },
   "source": [
    "## Título 4\n",
    "### Subtítulo 4\n",
    "\n",
    "<br>\n",
    "\n",
    "<div style=\"float: left; width: 50%;vertical-align: middle;\">\n",
    "\n",
    "La imagen de la derecha fue creado con el siguiente código:\n",
    "\n",
    "```html\n",
    "<img src=\"columns/lore_ipsum.png\">\n",
    "</img>\n",
    "```\n",
    "    \n",
    "</div>\n",
    "<div style=\"float: right; width: 50%;\">\n",
    "    <img src=\"columns/lore_ipsum.png\"></img>\n",
    "</div>"
   ]
  },
  {
   "cell_type": "markdown",
   "metadata": {
    "slideshow": {
     "slide_type": "slide"
    }
   },
   "source": [
    "### ¿Qué más me gustaría? \n",
    "* Código: A pesar que puedo poner código en las columnas (código \"muerto\" pues se puede escribir codigo en el markdown), me gustaría más que la columna fueran una celda de python ejecutable.\n",
    "\n",
    "* Videos: Podría ser útil tener el video en una columna, aunque en general mostrat el video usando el código de python y luego maximizando el video:"
   ]
  },
  {
   "cell_type": "code",
   "execution_count": 9,
   "metadata": {},
   "outputs": [
    {
     "data": {
      "text/html": [
       "\n",
       "<iframe width=\"600\" height=\"400\" \n",
       "src=\"https://www.youtube.com/embed/dQw4w9WgXcQ\" \n",
       "frameborder=\"0\"  allow=\"accelerometer; autoplay; encrypted-media; gyroscope; picture-in-picture\" allowfullscreen>\n",
       "</iframe>"
      ],
      "text/plain": [
       "<IPython.core.display.HTML object>"
      ]
     },
     "execution_count": 9,
     "metadata": {},
     "output_type": "execute_result"
    }
   ],
   "source": [
    "from IPython.display import HTML\n",
    "embed_url = \"\"\"\n",
    "<iframe width=\"600\" height=\"400\" \n",
    "src=\"https://www.youtube.com/embed/dQw4w9WgXcQ\" \n",
    "frameborder=\"0\"  allow=\"accelerometer; autoplay; encrypted-media; gyroscope; picture-in-picture\" allowfullscreen>\n",
    "</iframe>\"\"\"\n",
    "HTML(embed_url)"
   ]
  }
 ],
 "metadata": {
  "celltoolbar": "Slideshow",
  "kernelspec": {
   "display_name": "Python 3",
   "language": "python",
   "name": "python3"
  },
  "language_info": {
   "codemirror_mode": {
    "name": "ipython",
    "version": 3
   },
   "file_extension": ".py",
   "mimetype": "text/x-python",
   "name": "python",
   "nbconvert_exporter": "python",
   "pygments_lexer": "ipython3",
   "version": "3.7.4"
  }
 },
 "nbformat": 4,
 "nbformat_minor": 4
}
