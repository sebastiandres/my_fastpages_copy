{
 "cells": [
  {
   "cell_type": "markdown",
   "metadata": {
    "slideshow": {
     "slide_type": "skip"
    }
   },
   "source": [
    "# Mi Charla en la PyCon Colombia 2020\n",
    "> Slides comentadas.\n",
    "\n",
    "- badges: true\n",
    "- comments: true\n",
    "- categories: [rise, encuestas, pycon, jupyter]"
   ]
  },
  {
   "cell_type": "code",
   "execution_count": 1,
   "metadata": {
    "slideshow": {
     "slide_type": "skip"
    }
   },
   "outputs": [
    {
     "data": {
      "text/plain": [
       "{'theme': 'sky', 'transition': 'none', 'start_slideshow_at': 'selected'}"
      ]
     },
     "execution_count": 1,
     "metadata": {},
     "output_type": "execute_result"
    }
   ],
   "source": [
    "#collapse_show\n",
    "# Set the thema and transitions for the slides\n",
    "#!/usr/bin/env python3\n",
    "from traitlets.config.manager import BaseJSONConfigManager\n",
    "from pathlib import Path\n",
    "path = Path.home() / \".jupyter\" / \"nbconfig\"\n",
    "cm = BaseJSONConfigManager(config_dir=str(path))\n",
    "cm.update(\n",
    "    \"rise\",\n",
    "    {\n",
    "        \"theme\": \"sky\",\n",
    "        \"transition\": \"none\",\n",
    "    }\n",
    ")"
   ]
  },
  {
   "cell_type": "code",
   "execution_count": 2,
   "metadata": {
    "slideshow": {
     "slide_type": "slide"
    }
   },
   "outputs": [],
   "source": [
    "%matplotlib inline"
   ]
  },
  {
   "cell_type": "markdown",
   "metadata": {
    "slideshow": {
     "slide_type": "slide"
    }
   },
   "source": [
    "## Presentaciones y encuestas interactivas con jupyter notebooks y RISE\n",
    "### pycon Colombia 2020\n",
    "### Sebastian Flores\n",
    "#### 07 Febrero 2020"
   ]
  },
  {
   "cell_type": "markdown",
   "metadata": {
    "slideshow": {
     "slide_type": "slide"
    }
   },
   "source": [
    "**Observaciones:**\n",
    "* sebastiandres en twitter y github.\n",
    "* Presentación en [github.com/sebastiandres/charlas](github.com/sebastiandres/charlas)\n",
    "* Opiniones y críticas a título personal.\n"
   ]
  },
  {
   "cell_type": "markdown",
   "metadata": {
    "slideshow": {
     "slide_type": "slide"
    }
   },
   "source": [
    "##### Introducción\n",
    "\n",
    "¿Porqué esta presentación?"
   ]
  },
  {
   "cell_type": "markdown",
   "metadata": {
    "slideshow": {
     "slide_type": "fragment"
    }
   },
   "source": [
    "![](pycon/intro.png)\n",
    "\n",
    "¿Se pueden hacer encuestas interactivas en presentaciones con jupyter notebooks?"
   ]
  },
  {
   "cell_type": "markdown",
   "metadata": {
    "slideshow": {
     "slide_type": "slide"
    }
   },
   "source": [
    "##### Agenda\n",
    "\n",
    "0. Sobre hacer presentaciones con RISE.\n",
    "1. Solución 1: Quick & dirty.\n",
    "2. Solución 2: ¡Pero quiero los datos!\n",
    "3. Solución 3: No confío en nadie."
   ]
  },
  {
   "cell_type": "markdown",
   "metadata": {
    "slideshow": {
     "slide_type": "slide"
    }
   },
   "source": [
    "##### 0.1 Sobre hacer presentaciones con jupyter y RISE\n",
    "\n",
    "¿Consejos sobre hacer presentaciones en general?"
   ]
  },
  {
   "cell_type": "markdown",
   "metadata": {
    "slideshow": {
     "slide_type": "fragment"
    }
   },
   "source": [
    "* Contenido pensado en tu audiencia. \n",
    "* Ensayar, ensayar, ensayar.\n",
    "* Incrementar el desafío."
   ]
  },
  {
   "cell_type": "markdown",
   "metadata": {
    "slideshow": {
     "slide_type": "slide"
    }
   },
   "source": [
    "##### 0.2 Sobre hacer presentaciones con jupyter y RISE\n",
    "\n",
    "Si forma parte importante de tu día a día, investiga y aprende a hacer mejores presentaciones."
   ]
  },
  {
   "cell_type": "markdown",
   "metadata": {
    "slideshow": {
     "slide_type": "fragment"
    }
   },
   "source": [
    "Libro que considero muy bueno: Confessions of a public speaker - Scott Berkum.\n",
    "\n",
    "![](pycon/libro_berkum.png)"
   ]
  },
  {
   "cell_type": "markdown",
   "metadata": {
    "slideshow": {
     "slide_type": "slide"
    }
   },
   "source": [
    "##### 0.3 Sobre hacer presentaciones con jupyter y RISE\n",
    "\n",
    "¿jupyter notebook? ¿RISE?\n",
    "\n",
    "![](pycon/stack.png)"
   ]
  },
  {
   "cell_type": "markdown",
   "metadata": {
    "slideshow": {
     "slide_type": "slide"
    }
   },
   "source": [
    "##### 0.3 Sobre hacer presentaciones con jupyter y RISE\n",
    "\n",
    "¿Qué es la extensión RISE?\n",
    "\n",
    "Una celda de jupyter notebook se puede clasificar (adicionalmente al code/markdown) como:\n",
    "* *Slide*: Diapositiva normal.\n",
    "* *Fragment*: Fragmento de diapositiva.\n",
    "* *Sub-slide*: Opcional.\n",
    "* *Skip*: No mostrar.\n",
    "* *Notes*: Notas."
   ]
  },
  {
   "cell_type": "markdown",
   "metadata": {
    "slideshow": {
     "slide_type": "fragment"
    }
   },
   "source": [
    "Toda la info en https://rise.readthedocs.io/"
   ]
  },
  {
   "cell_type": "markdown",
   "metadata": {
    "slideshow": {
     "slide_type": "slide"
    }
   },
   "source": [
    "##### 0.3 Sobre hacer presentaciones con jupyter y RISE\n",
    "\n",
    "¿Qué es la extensión RISE?"
   ]
  },
  {
   "cell_type": "markdown",
   "metadata": {
    "slideshow": {
     "slide_type": "fragment"
    }
   },
   "source": [
    "![](pycon/RISE.png)"
   ]
  },
  {
   "cell_type": "markdown",
   "metadata": {
    "slideshow": {
     "slide_type": "slide"
    }
   },
   "source": [
    "##### 0.4 Sobre hacer presentaciones con jupyter y RISE\n",
    "\n",
    "Ok, pero... ¿porqué? ¿Porqué? ¿PORQUÉ?"
   ]
  },
  {
   "cell_type": "markdown",
   "metadata": {
    "slideshow": {
     "slide_type": "fragment"
    }
   },
   "source": [
    "* Tener una presentación autocontenida: los ejemplos (código) queda en jupyter notebook.\n",
    "* Corregir directamente cuando sea necesario.\n",
    "* Hacer participar a la audiencia."
   ]
  },
  {
   "cell_type": "markdown",
   "metadata": {
    "slideshow": {
     "slide_type": "slide"
    }
   },
   "source": [
    "##### 0.4 Sobre hacer presentaciones con jupyter y RISE\n",
    "\n",
    "Sí, incluso ejecutar código en python"
   ]
  },
  {
   "cell_type": "code",
   "execution_count": 3,
   "metadata": {
    "slideshow": {
     "slide_type": "fragment"
    }
   },
   "outputs": [
    {
     "data": {
      "text/plain": [
       "True"
      ]
     },
     "execution_count": 3,
     "metadata": {},
     "output_type": "execute_result"
    }
   ],
   "source": [
    "x = 200\n",
    "y = 200\n",
    "x is y"
   ]
  },
  {
   "cell_type": "code",
   "execution_count": 4,
   "metadata": {
    "slideshow": {
     "slide_type": "fragment"
    }
   },
   "outputs": [
    {
     "data": {
      "text/plain": [
       "False"
      ]
     },
     "execution_count": 4,
     "metadata": {},
     "output_type": "execute_result"
    }
   ],
   "source": [
    "a = 300\n",
    "b = 300\n",
    "a is b"
   ]
  },
  {
   "cell_type": "code",
   "execution_count": 5,
   "metadata": {
    "slideshow": {
     "slide_type": "fragment"
    }
   },
   "outputs": [
    {
     "data": {
      "text/plain": [
       "['bread', 'meat', 'cheese', 'meat', 'cheese', 'meat', 'cheese', 'bread']"
      ]
     },
     "execution_count": 5,
     "metadata": {},
     "output_type": "execute_result"
    }
   ],
   "source": [
    "def cheeseburger(n):\n",
    "    return [\"bread\"] + [\"meat\", \"cheese\"]*n + [\"bread\"]\n",
    "\n",
    "cheeseburger(3)"
   ]
  },
  {
   "cell_type": "markdown",
   "metadata": {
    "slideshow": {
     "slide_type": "slide"
    }
   },
   "source": [
    "##### 0.5 Sobre hacer presentaciones con jupyter y RISE\n",
    "\n",
    "¿Que he aprendido?"
   ]
  },
  {
   "cell_type": "markdown",
   "metadata": {
    "slideshow": {
     "slide_type": "fragment"
    }
   },
   "source": [
    "* Usa \"Ctrl +\" y \"Ctrl -\" para controlar aspecto."
   ]
  },
  {
   "cell_type": "markdown",
   "metadata": {
    "slideshow": {
     "slide_type": "fragment"
    }
   },
   "source": [
    "* Entrega parte del control de contenido al público. Usa un teclado+mouse inalámbrico."
   ]
  },
  {
   "cell_type": "markdown",
   "metadata": {
    "slideshow": {
     "slide_type": "fragment"
    }
   },
   "source": [
    "* Plantea desafíos de código incompleto pero entrega propuestas de solución."
   ]
  },
  {
   "cell_type": "markdown",
   "metadata": {
    "slideshow": {
     "slide_type": "fragment"
    }
   },
   "source": [
    "* `git` es tu amigo."
   ]
  },
  {
   "cell_type": "markdown",
   "metadata": {
    "slideshow": {
     "slide_type": "fragment"
    }
   },
   "source": [
    "* Improvisa. Nunca será como planificaste."
   ]
  },
  {
   "cell_type": "markdown",
   "metadata": {
    "slideshow": {
     "slide_type": "slide"
    }
   },
   "source": [
    "##### 0.6 Descripción del Problema"
   ]
  },
  {
   "cell_type": "markdown",
   "metadata": {
    "slideshow": {
     "slide_type": "fragment"
    }
   },
   "source": [
    "**¿Qué queremos?** \n",
    "\n",
    "Realizar encuesta interactiva sin salir del modo presentación (en RISE).\n"
   ]
  },
  {
   "cell_type": "markdown",
   "metadata": {
    "slideshow": {
     "slide_type": "fragment"
    }
   },
   "source": [
    "**¿Porqué?** \n",
    "\n",
    "Hacer encuestas para obtener retroalimentación de la audiencia cuando importa, sin cambiar pantalla o sistema.\n"
   ]
  },
  {
   "cell_type": "markdown",
   "metadata": {
    "slideshow": {
     "slide_type": "slide"
    }
   },
   "source": [
    "##### 1.7 Descripción del Problema"
   ]
  },
  {
   "cell_type": "markdown",
   "metadata": {
    "slideshow": {
     "slide_type": "fragment"
    }
   },
   "source": [
    "**¿Se puede?**"
   ]
  },
  {
   "cell_type": "markdown",
   "metadata": {
    "slideshow": {
     "slide_type": "fragment"
    }
   },
   "source": [
    "Sí, y de varias maneras distintas."
   ]
  },
  {
   "cell_type": "markdown",
   "metadata": {
    "slideshow": {
     "slide_type": "fragment"
    }
   },
   "source": [
    "**¿Cómo?**"
   ]
  },
  {
   "cell_type": "markdown",
   "metadata": {
    "slideshow": {
     "slide_type": "fragment"
    }
   },
   "source": [
    "IFrames."
   ]
  },
  {
   "cell_type": "markdown",
   "metadata": {
    "slideshow": {
     "slide_type": "slide"
    }
   },
   "source": [
    "##### 0.9 Descripción del Problema\n",
    "\n",
    "Nuestro héroe se llama IFrame."
   ]
  },
  {
   "cell_type": "code",
   "execution_count": 6,
   "metadata": {
    "slideshow": {
     "slide_type": "-"
    }
   },
   "outputs": [
    {
     "data": {
      "text/html": [
       "\n",
       "        <iframe\n",
       "            width=\"800\"\n",
       "            height=\"400\"\n",
       "            src=\"https://es.wikipedia.org/wiki/Iframe\"\n",
       "            frameborder=\"0\"\n",
       "            allowfullscreen\n",
       "        ></iframe>\n",
       "        "
      ],
      "text/plain": [
       "<IPython.lib.display.IFrame at 0x115e9bb10>"
      ]
     },
     "execution_count": 6,
     "metadata": {},
     "output_type": "execute_result"
    }
   ],
   "source": [
    "from IPython.display import IFrame\n",
    "IFrame(\"https://es.wikipedia.org/wiki/Iframe\", width=800, height=400) #https://es.wikipedia.org/wiki/Iframe"
   ]
  },
  {
   "cell_type": "markdown",
   "metadata": {
    "slideshow": {
     "slide_type": "fragment"
    }
   },
   "source": [
    "Otros:\n",
    "* https://www.pycon.co/\n",
    "* https://rise.readthedocs.io/"
   ]
  },
  {
   "cell_type": "markdown",
   "metadata": {
    "slideshow": {
     "slide_type": "slide"
    }
   },
   "source": [
    "##### 0.10 Descripción del Problema\n",
    "\n",
    "Más ejemplos ..."
   ]
  },
  {
   "cell_type": "code",
   "execution_count": 7,
   "metadata": {},
   "outputs": [
    {
     "data": {
      "text/html": [
       "\n",
       "        <iframe\n",
       "            width=\"800\"\n",
       "            height=\"300\"\n",
       "            src=\"https://www.python.org/\"\n",
       "            frameborder=\"0\"\n",
       "            allowfullscreen\n",
       "        ></iframe>\n",
       "        "
      ],
      "text/plain": [
       "<IPython.lib.display.IFrame at 0x115e9f790>"
      ]
     },
     "execution_count": 7,
     "metadata": {},
     "output_type": "execute_result"
    }
   ],
   "source": [
    "from IPython.display import IFrame\n",
    "IFrame(\"https://www.python.org/\", width=800, height=300)"
   ]
  },
  {
   "cell_type": "markdown",
   "metadata": {
    "slideshow": {
     "slide_type": "fragment"
    }
   },
   "source": [
    "No siempre funciona:\n",
    "* https://www.python.org/\n",
    "* google, facebook, twitter, ..."
   ]
  },
  {
   "cell_type": "markdown",
   "metadata": {
    "slideshow": {
     "slide_type": "fragment"
    }
   },
   "source": [
    "En general a los sitios (sobre todo los que requieren autentificación y desean hacer tracking de usuarios) bloquean los IFrames."
   ]
  },
  {
   "cell_type": "markdown",
   "metadata": {
    "slideshow": {
     "slide_type": "slide"
    }
   },
   "source": [
    "##### 1.1 Problema: Realizar encuestas interactivas.\n",
    "\n",
    "\n",
    "**Solucion nivel 1:**\n",
    "\n",
    "KISS: Keep IT Simple, Stupid."
   ]
  },
  {
   "cell_type": "markdown",
   "metadata": {
    "slideshow": {
     "slide_type": "fragment"
    }
   },
   "source": [
    "Podemos usar IFrame con los servicios de alguna compañía especializada en encuestas interactivas:\n",
    "* Polleverywhere\n",
    "* Mentimeter\n",
    "* Muchos, muchos otros..."
   ]
  },
  {
   "cell_type": "markdown",
   "metadata": {
    "slideshow": {
     "slide_type": "notes"
    }
   },
   "source": [
    "Relato: Solución nivel 1. Meme de “cerebro”. Hay un principio elemental en programación: KISS. Keep it Simple, Stupid. No hay para que reinventar la rueda cuando podemos aprovechar lo que otras personas ya han hecho.\n",
    "\n",
    "Relato: Hay varias empresas que proporcionan servicios para realizar encuestas en vivo, que funciona a través de páginas web. Algunas de las empresas que pueden revisar para esto son: Mentimeter, Survey, Polleverywhere, por ejemplo. Spoiler Alert: Son todas bastante parecidas."
   ]
  },
  {
   "cell_type": "markdown",
   "metadata": {
    "slideshow": {
     "slide_type": "slide"
    }
   },
   "source": [
    "##### 1.2 Solución nivel 1: Encuesta\n",
    "\n",
    "Probemos este método con una encuesta simple:"
   ]
  },
  {
   "cell_type": "code",
   "execution_count": 17,
   "metadata": {},
   "outputs": [
    {
     "data": {
      "text/html": [
       "\n",
       "        <iframe\n",
       "            width=\"800\"\n",
       "            height=\"600\"\n",
       "            src=\"https://pollev.com/sebastianflo711\"\n",
       "            frameborder=\"0\"\n",
       "            allowfullscreen\n",
       "        ></iframe>\n",
       "        "
      ],
      "text/plain": [
       "<IPython.lib.display.IFrame at 0x115e9f5d0>"
      ]
     },
     "execution_count": 17,
     "metadata": {},
     "output_type": "execute_result"
    }
   ],
   "source": [
    "from IPython.display import IFrame\n",
    "IFrame(\"https://pollev.com/sebastianflo711\", width=800, height=600)"
   ]
  },
  {
   "cell_type": "markdown",
   "metadata": {
    "slideshow": {
     "slide_type": "slide"
    }
   },
   "source": [
    "##### 1.3 Solución nivel 1: \n",
    "\n",
    "Link encuesta: \n",
    "<br>\n",
    "<br>\n",
    "<div style='font-size:200%'> https://pollev.com/sebastianflo711 </div>\n",
    "\n",
    "**¿Qué debe cumplir un sitio de encuestas interactivas?**\n",
    "\n",
    "* Encuesta acccesible por url pública, incrustable por iframe.\n",
    "* Gráfico dinámico accesible por url pública, incrustable por iframe."
   ]
  },
  {
   "cell_type": "markdown",
   "metadata": {
    "slideshow": {
     "slide_type": "slide"
    }
   },
   "source": [
    "##### 1.3 Solución nivel 1:\n",
    "\n",
    "Veamos los resultados de la encuesta anterior."
   ]
  },
  {
   "cell_type": "code",
   "execution_count": 18,
   "metadata": {
    "slideshow": {
     "slide_type": "-"
    }
   },
   "outputs": [
    {
     "data": {
      "text/html": [
       "\n",
       "        <iframe\n",
       "            width=\"800\"\n",
       "            height=\"600\"\n",
       "            src=\"https://www.polleverywhere.com/multiple_choice_polls/7Xwy472JbCrk3fITm12XM\"\n",
       "            frameborder=\"0\"\n",
       "            allowfullscreen\n",
       "        ></iframe>\n",
       "        "
      ],
      "text/plain": [
       "<IPython.lib.display.IFrame at 0x11b268190>"
      ]
     },
     "execution_count": 18,
     "metadata": {},
     "output_type": "execute_result"
    }
   ],
   "source": [
    "from IPython.display import IFrame\n",
    "IFrame(\"https://www.polleverywhere.com/multiple_choice_polls/7Xwy472JbCrk3fITm12XM\", width=800, height=600)\n",
    "# Observación: ¡requiere estar autentificado como dueño de la encuesta!"
   ]
  },
  {
   "cell_type": "markdown",
   "metadata": {
    "slideshow": {
     "slide_type": "slide"
    }
   },
   "source": [
    "##### 1.4 Solución nivel 1:  Resumen\n",
    "¿Cómo se debe usar?"
   ]
  },
  {
   "cell_type": "markdown",
   "metadata": {
    "slideshow": {
     "slide_type": "fragment"
    }
   },
   "source": [
    "1. Seleccionar algún proveedor.\n",
    "1. Crear y configurar la encuesta previamente.\n",
    "1. Obtener el enlace de las preguntas, e incrustarla con un iframe.\n",
    "1. Obtener el gráfico de las respuestas, e incrustarla con un iframe.\n",
    "1. Probar que funcione correctamente. Borrar respuestas de prueba. "
   ]
  },
  {
   "cell_type": "markdown",
   "metadata": {
    "slideshow": {
     "slide_type": "slide"
    }
   },
   "source": [
    "##### 1.5 Pausa\n",
    "¿Que viene antes, el huevo o la gallina?"
   ]
  },
  {
   "cell_type": "code",
   "execution_count": 10,
   "metadata": {},
   "outputs": [
    {
     "data": {
      "text/plain": [
       "['🐔', '🥚']"
      ]
     },
     "execution_count": 10,
     "metadata": {},
     "output_type": "execute_result"
    }
   ],
   "source": [
    "# Solución al problema\n",
    "# python3 permite usar unicode\n",
    "sorted(['\\N{EGG}', '\\N{CHICKEN}'])"
   ]
  },
  {
   "cell_type": "markdown",
   "metadata": {
    "slideshow": {
     "slide_type": "slide"
    }
   },
   "source": [
    "##### 2.1 Problema: Realizar encuestas interactivas.\n",
    "\n",
    "**Solución Nivel 2**\n",
    "\n",
    "Una segunda opción que requiere un poco más de configuración pero entrega más control, es usar un servicio de encuestas tradicional:"
   ]
  },
  {
   "cell_type": "markdown",
   "metadata": {
    "slideshow": {
     "slide_type": "fragment"
    }
   },
   "source": [
    "* Microsoft Forms\n",
    "* Google Forms\n",
    "* Survey Monkey\n",
    "* Typeform\n",
    "* Muchas otras...\n",
    "\n",
    "Se diferencia que nosotros podemos hacer los gráficos porque podemos descargar los datos."
   ]
  },
  {
   "cell_type": "markdown",
   "metadata": {
    "slideshow": {
     "slide_type": "slide"
    }
   },
   "source": [
    "##### 2.2 Solución Nivel 2: Encuesta + Datos\n",
    "\n",
    "Probemos este método con otra encuesta simple:"
   ]
  },
  {
   "cell_type": "code",
   "execution_count": 11,
   "metadata": {},
   "outputs": [
    {
     "data": {
      "text/html": [
       "\n",
       "        <iframe\n",
       "            width=\"800\"\n",
       "            height=\"600\"\n",
       "            src=\"https://bit.ly/2uYDdhm\"\n",
       "            frameborder=\"0\"\n",
       "            allowfullscreen\n",
       "        ></iframe>\n",
       "        "
      ],
      "text/plain": [
       "<IPython.lib.display.IFrame at 0x10baf0610>"
      ]
     },
     "execution_count": 11,
     "metadata": {},
     "output_type": "execute_result"
    }
   ],
   "source": [
    "long_url = \"https://forms.office.com/Pages/ResponsePage.aspx?id=zu7OdUTRPU-clJ5rQCX8_4qs5cX1Y7dFhVdiCz848sBUNFU3UzU3OTNHVDhWNURSMEs2WDBUMDdCTi4u\"\n",
    "short_url = \"https://bit.ly/2uYDdhm\"\n",
    "iframe_options = {\"width\":800, \"height\":600}\n",
    "IFrame(short_url, **iframe_options)"
   ]
  },
  {
   "cell_type": "markdown",
   "metadata": {
    "slideshow": {
     "slide_type": "slide"
    }
   },
   "source": [
    "##### 2.3 Solución Nivel 2:  \n",
    "\n",
    "Link encuesta: \n",
    "<br>\n",
    "<br>\n",
    "<div style='font-size:200%'> https://bit.ly/2uYDdhm </div>\n",
    "\n",
    "<br/>\n",
    "¿Qué debe cumplir un sitio de encuestas nivel 2?\n",
    "\n",
    "* Encuesta accesible al público mediante un enlace abierto. Puede que no sea incrustable con un iframe.\n",
    "* Opcionalmente, que cuente con gráficos en línea.\n",
    "* Datos disponibles y puedan descargarse.\n",
    "* Crear una función (en Python) para descargar e interpretar los datos.\n",
    "* Probar que la encuesta funcione. Borrar las respuestas de prueba."
   ]
  },
  {
   "cell_type": "markdown",
   "metadata": {
    "slideshow": {
     "slide_type": "slide"
    }
   },
   "source": [
    "##### 2.4 Solución Nivel 2: Respuestas"
   ]
  },
  {
   "cell_type": "code",
   "execution_count": 19,
   "metadata": {
    "scrolled": true
   },
   "outputs": [
    {
     "data": {
      "text/html": [
       "\n",
       "        <iframe\n",
       "            width=\"800\"\n",
       "            height=\"800\"\n",
       "            src=\"https://bit.ly/37We2dE\"\n",
       "            frameborder=\"0\"\n",
       "            allowfullscreen\n",
       "        ></iframe>\n",
       "        "
      ],
      "text/plain": [
       "<IPython.lib.display.IFrame at 0x11b2683d0>"
      ]
     },
     "execution_count": 19,
     "metadata": {},
     "output_type": "execute_result"
    }
   ],
   "source": [
    "long_url = \"https://forms.office.com/Pages/AnalysisPage.aspx?id=zu7OdUTRPU-clJ5rQCX8_4qs5cX1Y7dFhVdiCz848sBUNFU3UzU3OTNHVDhWNURSMEs2WDBUMDdCTi4u&AnalyzerToken=ND54U8Erls95gHxjbyWus4LzH6FPyZ35\"\n",
    "short_url = \"https://bit.ly/37We2dE\"\n",
    "iframe_options = {\"width\":800, \"height\":800}\n",
    "IFrame(short_url, **iframe_options)"
   ]
  },
  {
   "cell_type": "markdown",
   "metadata": {
    "slideshow": {
     "slide_type": "slide"
    }
   },
   "source": [
    "##### 2.4 Solución Nivel 2: Respuestas  (versión 2)\n",
    "\n",
    "* Descargamos la planilla de datos con el resultado desde algún [enlace](https://uplanner-my.sharepoint.com/:x:/r/personal/sebastian_flores_u-planner_com/_layouts/15/Doc.aspx?sourcedoc=%7B7D9BF52E-2931-4702-86ED-00792E617ECF%7D&file=2020_02_09_encuesta2_pycon.xlsx&action=default&mobileredirect=true) "
   ]
  },
  {
   "cell_type": "code",
   "execution_count": 20,
   "metadata": {
    "slideshow": {
     "slide_type": "fragment"
    }
   },
   "outputs": [
    {
     "data": {
      "text/plain": [
       "['pycon/2020_02_08_encuesta2_pycon.xlsx']"
      ]
     },
     "execution_count": 20,
     "metadata": {},
     "output_type": "execute_result"
    }
   ],
   "source": [
    "# Alternative to ls data/*.xlsx\n",
    "import glob\n",
    "glob.glob(\"pycon/*.xlsx\")"
   ]
  },
  {
   "cell_type": "code",
   "execution_count": 21,
   "metadata": {
    "slideshow": {
     "slide_type": "fragment"
    }
   },
   "outputs": [
    {
     "data": {
      "text/plain": [
       "odict_keys(['Hoja1', '_56F9DC9755BA473782653E2940F9', 'Form1'])"
      ]
     },
     "execution_count": 21,
     "metadata": {},
     "output_type": "execute_result"
    }
   ],
   "source": [
    "import pandas as pd\n",
    "df_dict = pd.read_excel(\"pycon/2020_02_08_encuesta2_pycon.xlsx\", sheet_name=None)\n",
    "df_dict.keys()"
   ]
  },
  {
   "cell_type": "code",
   "execution_count": 22,
   "metadata": {
    "slideshow": {
     "slide_type": "fragment"
    }
   },
   "outputs": [
    {
     "name": "stdout",
     "output_type": "stream",
     "text": [
      "Which one is the best pet?\n"
     ]
    }
   ],
   "source": [
    "df = df_dict[\"Form1\"]\n",
    "question = df.columns[-1]\n",
    "print(question)"
   ]
  },
  {
   "cell_type": "code",
   "execution_count": 23,
   "metadata": {
    "slideshow": {
     "slide_type": "fragment"
    }
   },
   "outputs": [
    {
     "data": {
      "text/html": [
       "<div>\n",
       "<style scoped>\n",
       "    .dataframe tbody tr th:only-of-type {\n",
       "        vertical-align: middle;\n",
       "    }\n",
       "\n",
       "    .dataframe tbody tr th {\n",
       "        vertical-align: top;\n",
       "    }\n",
       "\n",
       "    .dataframe thead th {\n",
       "        text-align: right;\n",
       "    }\n",
       "</style>\n",
       "<table border=\"1\" class=\"dataframe\">\n",
       "  <thead>\n",
       "    <tr style=\"text-align: right;\">\n",
       "      <th></th>\n",
       "      <th>ID</th>\n",
       "      <th>Start time</th>\n",
       "      <th>Completion time</th>\n",
       "      <th>Email</th>\n",
       "      <th>Name</th>\n",
       "      <th>Which one is the best pet?</th>\n",
       "    </tr>\n",
       "  </thead>\n",
       "  <tbody>\n",
       "    <tr>\n",
       "      <td>0</td>\n",
       "      <td>9</td>\n",
       "      <td>2020-02-03 14:28:15</td>\n",
       "      <td>2020-02-03 14:28:27</td>\n",
       "      <td>anonymous</td>\n",
       "      <td>NaN</td>\n",
       "      <td>Python</td>\n",
       "    </tr>\n",
       "    <tr>\n",
       "      <td>1</td>\n",
       "      <td>10</td>\n",
       "      <td>2020-02-08 00:32:22</td>\n",
       "      <td>2020-02-08 00:32:27</td>\n",
       "      <td>anonymous</td>\n",
       "      <td>NaN</td>\n",
       "      <td>Python</td>\n",
       "    </tr>\n",
       "    <tr>\n",
       "      <td>2</td>\n",
       "      <td>11</td>\n",
       "      <td>2020-02-08 18:00:03</td>\n",
       "      <td>2020-02-08 18:00:08</td>\n",
       "      <td>anonymous</td>\n",
       "      <td>NaN</td>\n",
       "      <td>Cat</td>\n",
       "    </tr>\n",
       "    <tr>\n",
       "      <td>3</td>\n",
       "      <td>12</td>\n",
       "      <td>2020-02-08 18:00:04</td>\n",
       "      <td>2020-02-08 18:00:09</td>\n",
       "      <td>anonymous</td>\n",
       "      <td>NaN</td>\n",
       "      <td>Cat</td>\n",
       "    </tr>\n",
       "    <tr>\n",
       "      <td>4</td>\n",
       "      <td>13</td>\n",
       "      <td>2020-02-08 18:00:07</td>\n",
       "      <td>2020-02-08 18:00:12</td>\n",
       "      <td>anonymous</td>\n",
       "      <td>NaN</td>\n",
       "      <td>Cat</td>\n",
       "    </tr>\n",
       "  </tbody>\n",
       "</table>\n",
       "</div>"
      ],
      "text/plain": [
       "   ID          Start time     Completion time      Email  Name  \\\n",
       "0   9 2020-02-03 14:28:15 2020-02-03 14:28:27  anonymous   NaN   \n",
       "1  10 2020-02-08 00:32:22 2020-02-08 00:32:27  anonymous   NaN   \n",
       "2  11 2020-02-08 18:00:03 2020-02-08 18:00:08  anonymous   NaN   \n",
       "3  12 2020-02-08 18:00:04 2020-02-08 18:00:09  anonymous   NaN   \n",
       "4  13 2020-02-08 18:00:07 2020-02-08 18:00:12  anonymous   NaN   \n",
       "\n",
       "  Which one is the best pet?  \n",
       "0                     Python  \n",
       "1                     Python  \n",
       "2                        Cat  \n",
       "3                        Cat  \n",
       "4                        Cat  "
      ]
     },
     "execution_count": 23,
     "metadata": {},
     "output_type": "execute_result"
    }
   ],
   "source": [
    "df.head()"
   ]
  },
  {
   "cell_type": "markdown",
   "metadata": {
    "slideshow": {
     "slide_type": "slide"
    }
   },
   "source": [
    "##### 2.5 Solución Nivel 2: Respuestas"
   ]
  },
  {
   "cell_type": "code",
   "execution_count": 24,
   "metadata": {},
   "outputs": [
    {
     "data": {
      "text/plain": [
       "Cat       9\n",
       "Python    7\n",
       "Dog       3\n",
       "León      1\n",
       "RISE      1\n",
       "Pandas    1\n",
       "Name: Which one is the best pet?, dtype: int64"
      ]
     },
     "execution_count": 24,
     "metadata": {},
     "output_type": "execute_result"
    }
   ],
   "source": [
    "question_df = df[question]\n",
    "answer_counts = question_df.value_counts()\n",
    "answer_counts"
   ]
  },
  {
   "cell_type": "code",
   "execution_count": 25,
   "metadata": {},
   "outputs": [
    {
     "data": {
      "image/png": "[encoded data removed]",
      "text/plain": [
       "<Figure size 1152x432 with 1 Axes>"
      ]
     },
     "metadata": {
      "needs_background": "light"
     },
     "output_type": "display_data"
    }
   ],
   "source": [
    "from matplotlib import pyplot as plt\n",
    "answer_counts.plot.barh(figsize=(16,6))\n",
    "plt.show()"
   ]
  },
  {
   "cell_type": "markdown",
   "metadata": {
    "slideshow": {
     "slide_type": "slide"
    }
   },
   "source": [
    "##### 2.6 Solución Nivel 2: Respuestas\n",
    "\n",
    "Hagamos un gráfico un poco mejor."
   ]
  },
  {
   "cell_type": "code",
   "execution_count": 28,
   "metadata": {},
   "outputs": [
    {
     "data": {
      "image/png": "[encoded data removed]",
      "text/plain": [
       "<Figure size 1152x432 with 1 Axes>"
      ]
     },
     "metadata": {
      "needs_background": "light"
     },
     "output_type": "display_data"
    }
   ],
   "source": [
    "from matplotlib import pyplot as plt\n",
    "answer_counts.plot.barh(figsize=(16,6), fontsize=16, alpha=0.50)\n",
    "plt.suptitle(question, fontsize=16)\n",
    "plt.xlabel(\"Número de respuestas\", fontsize=16)\n",
    "plt.ylabel(\"\");"
   ]
  },
  {
   "cell_type": "markdown",
   "metadata": {
    "slideshow": {
     "slide_type": "slide"
    }
   },
   "source": [
    "##### 2.7 Solución nivel 2: Resumen\n",
    "\n",
    "1. Elegir algún proveedor.\n",
    "1. Crear la encuesta.\n",
    "1. Obtener la url pública de las preguntas, e incrustarla en un iframe.\n",
    "1. Obtener la url de los datos de las respuestas.\n",
    "1. Usar una api o descargar los datos.\n",
    "1. Graficar desde python para interpretar los datos."
   ]
  },
  {
   "cell_type": "markdown",
   "metadata": {
    "slideshow": {
     "slide_type": "slide"
    }
   },
   "source": [
    "##### 2.1 Problema: Realizar encuestas interactivas.\n",
    "\n",
    "**Solución Nivel 3**\n",
    "\n",
    "La solución más compleja es por supuesto hacer el sistema completo:"
   ]
  },
  {
   "cell_type": "markdown",
   "metadata": {
    "slideshow": {
     "slide_type": "fragment"
    }
   },
   "source": [
    "* **Base de datos**: donde almacenar la encuesta y las respuestas. \n",
    "* **Frontend**: para realizar la encuesta (mostrar preguntas, recolectar respuestas, mostrar gráficos).\n",
    "* **Backend**: interactuar con la base de datos. "
   ]
  },
  {
   "cell_type": "markdown",
   "metadata": {
    "slideshow": {
     "slide_type": "fragment"
    }
   },
   "source": [
    "En este caso: mysql, flask, flask-mysql y pandas, con algo de html y css, y una librería de javascript para graficar."
   ]
  },
  {
   "cell_type": "markdown",
   "metadata": {
    "slideshow": {
     "slide_type": "slide"
    }
   },
   "source": [
    "##### Solución Nivel 3\n",
    "\n",
    "¿Porqué alguien voluntariamente se sometería a este tormento?"
   ]
  },
  {
   "cell_type": "markdown",
   "metadata": {
    "slideshow": {
     "slide_type": "fragment"
    }
   },
   "source": [
    "**Filosofía xkcd**: \n",
    "\n",
    "¿Porqué hacer algo simple cuando podrías hacer algo extremadamente complejo *de la manera más simple posible*, aprendiendo mucho en el camino?"
   ]
  },
  {
   "cell_type": "markdown",
   "metadata": {
    "slideshow": {
     "slide_type": "fragment"
    }
   },
   "source": [
    "![](pycon/the_general_problem.png)"
   ]
  },
  {
   "cell_type": "markdown",
   "metadata": {
    "slideshow": {
     "slide_type": "slide"
    }
   },
   "source": [
    "##### Solución Nivel 3\n",
    "\n",
    "¿xkcd en python?"
   ]
  },
  {
   "cell_type": "code",
   "execution_count": null,
   "metadata": {},
   "outputs": [],
   "source": [
    "import antigravity"
   ]
  },
  {
   "cell_type": "markdown",
   "metadata": {
    "slideshow": {
     "slide_type": "fragment"
    }
   },
   "source": [
    "![](pycon/python.png)"
   ]
  },
  {
   "cell_type": "markdown",
   "metadata": {
    "slideshow": {
     "slide_type": "slide"
    }
   },
   "source": [
    "##### Solución Nivel 3"
   ]
  },
  {
   "cell_type": "code",
   "execution_count": 29,
   "metadata": {
    "slideshow": {
     "slide_type": "-"
    }
   },
   "outputs": [
    {
     "data": {
      "text/html": [
       "\n",
       "        <iframe\n",
       "            width=\"800\"\n",
       "            height=\"300\"\n",
       "            src=\"http://localhost:5000/\"\n",
       "            frameborder=\"0\"\n",
       "            allowfullscreen\n",
       "        ></iframe>\n",
       "        "
      ],
      "text/plain": [
       "<IPython.lib.display.IFrame at 0x11b2971d0>"
      ]
     },
     "execution_count": 29,
     "metadata": {},
     "output_type": "execute_result"
    }
   ],
   "source": [
    "from IPython.display import IFrame\n",
    "IFrame(\"http://localhost:5000/\", width=800, height=300)"
   ]
  },
  {
   "cell_type": "markdown",
   "metadata": {
    "slideshow": {
     "slide_type": "slide"
    }
   },
   "source": [
    "##### Solución Nivel 3\n",
    "\n",
    "El código de polite se encuentra en https://github.com/sebastiandres/surveys_with_flask_and_xkcd_charts.\n"
   ]
  },
  {
   "cell_type": "markdown",
   "metadata": {
    "slideshow": {
     "slide_type": "fragment"
    }
   },
   "source": [
    "Hace uso de muchos recursos públicamente disponibles (además de mysql y  python+librerías):\n",
    "* Font xkcd.ttf de ipython, https://github.com/ipython/xkcd-font\n",
    "* Librería xkcd_chart en javascript: https://timqian.com/chart.xkcd/\n",
    "* Una cantidad vergonzosamente grande de búsquedas en internet y stackoverflow. "
   ]
  },
  {
   "cell_type": "markdown",
   "metadata": {
    "slideshow": {
     "slide_type": "slide"
    }
   },
   "source": [
    "##### Solución Nivel 3\n",
    "\n",
    "Una de las cosas que más me llamó la atención fue cómo hacer una función que pudiese transformar un texto markdown en la serie de preguntas y opciones de respuesta. \n",
    "\n",
    "Requería definir convenciones:\n",
    "* La pregunta es todo lo que va antes de `:`\n",
    "* Las preguntas de respuesta única se definen por `*` \n",
    "* Las preguntas de respuesta única se definen por `^`\n",
    "\n",
    "Otra opción podría haber sido `-` y `+`. \n",
    "\n",
    "Es una mala opción usar `o` y `m`. \n"
   ]
  },
  {
   "cell_type": "markdown",
   "metadata": {
    "slideshow": {
     "slide_type": "slide"
    }
   },
   "source": [
    "##### Solución Nivel 3"
   ]
  },
  {
   "cell_type": "code",
   "execution_count": null,
   "metadata": {
    "slideshow": {
     "slide_type": "-"
    }
   },
   "outputs": [],
   "source": [
    "def markdown_parser(my_text):\n",
    "    if my_text.count(\":\")!=1:\n",
    "        print(\"Cannot parse, there's an error in the format\")\n",
    "        return {\"is_format_ok\":False, \"markdown_str\":my_text}\n",
    "    single_option = 0\n",
    "    multiple_option = 0\n",
    "    if (\"* \" in my_text):\n",
    "        single_option = 1\n",
    "        split_char = \"*\"\n",
    "    if (\"^ \" in my_text):\n",
    "        multiple_option = 1\n",
    "        split_char = \"^\"\n",
    "    # If both False or both True, simultaneoulsy, there's an error\n",
    "    if single_option==multiple_option:\n",
    "        print(\"Cannot parse, there's an error in the format\")\n",
    "        return {\"is_format_ok\":False, \"markdown_str\":my_text}\n",
    "    question_str, answer_str = my_text.split(\":\")\n",
    "    question = question_str.strip()\n",
    "    answer_list = [_.strip() for _ in answer_str.split(split_char)[1:6]] # Skip the empty string, reach to the fifth existing one\n",
    "    answer_list = answer_list + [\"\" for _ in range(5-len(answer_list))] # Fill with empty ones if needed\n",
    "    question_type = single_option*\"radio\"+multiple_option*\"checkbox\" # This is the html convention\n",
    "    # Create the dict\n",
    "    md_dict = {}\n",
    "    md_dict[\"is_format_ok\"] = True\n",
    "    md_dict[\"markdown_str\"] = my_text\n",
    "    md_dict[\"type_str\"] = question_type\n",
    "     md_dict[\"question_str\"] = question\n",
    "    md_dict[\"option_1_str\"] = answer_list[0]\n",
    "    md_dict[\"option_2_str\"] = answer_list[1]\n",
    "    md_dict[\"option_3_str\"] = answer_list[2]\n",
    "    md_dict[\"option_4_str\"] = answer_list[3]\n",
    "    md_dict[\"option_5_str\"] = answer_list[4]\n",
    "    return md_dict"
   ]
  },
  {
   "cell_type": "markdown",
   "metadata": {
    "slideshow": {
     "slide_type": "slide"
    }
   },
   "source": [
    "##### Solución Nivel 3\n"
   ]
  },
  {
   "cell_type": "code",
   "execution_count": null,
   "metadata": {},
   "outputs": [],
   "source": [
    "markdown_parser(\"Q: ^ A * B * C * D * E * F * G \")"
   ]
  },
  {
   "cell_type": "code",
   "execution_count": null,
   "metadata": {},
   "outputs": [],
   "source": [
    "markdown_parser(\"\"\"Q: ^ A ^ B ^ C ^ D ^ E ^ F ^ G ^ H\"\"\")"
   ]
  },
  {
   "cell_type": "markdown",
   "metadata": {
    "slideshow": {
     "slide_type": "skip"
    }
   },
   "source": [
    "##### Solución Nivel 3\n",
    "\n",
    "Hagamos la prueba:"
   ]
  },
  {
   "cell_type": "code",
   "execution_count": null,
   "metadata": {
    "slideshow": {
     "slide_type": "skip"
    }
   },
   "outputs": [],
   "source": [
    "from IPython.display import IFrame\n",
    "IFrame(\"http://localhost:5000/survey\", width=1000, height=1000)"
   ]
  },
  {
   "cell_type": "markdown",
   "metadata": {
    "slideshow": {
     "slide_type": "slide"
    }
   },
   "source": [
    "##### Solución Nivel 3\n",
    "\n",
    "Veamos los resultados:"
   ]
  },
  {
   "cell_type": "code",
   "execution_count": 30,
   "metadata": {
    "slideshow": {
     "slide_type": "-"
    }
   },
   "outputs": [
    {
     "data": {
      "text/html": [
       "\n",
       "        <iframe\n",
       "            width=\"1000\"\n",
       "            height=\"1000\"\n",
       "            src=\"http://localhost:5000/bar_chart\"\n",
       "            frameborder=\"0\"\n",
       "            allowfullscreen\n",
       "        ></iframe>\n",
       "        "
      ],
      "text/plain": [
       "<IPython.lib.display.IFrame at 0x11ba83190>"
      ]
     },
     "execution_count": 30,
     "metadata": {},
     "output_type": "execute_result"
    }
   ],
   "source": [
    "from IPython.display import IFrame\n",
    "IFrame(\"http://localhost:5000/bar_chart\", width=1000, height=1000)"
   ]
  },
  {
   "cell_type": "markdown",
   "metadata": {
    "slideshow": {
     "slide_type": "slide"
    }
   },
   "source": [
    "##### Conclusión: Encuestas nivel 1\n",
    "\n",
    "<table align=\"left\" style='font-size:120%' >\n",
    "  <tr>\n",
    "    <td><b></b></td>\n",
    "    <td><b>Ventaja</b></td>\n",
    "    <td><b>Desventaja</b></td>\n",
    "  <tr>\n",
    "    <td>Complejidad</td>\n",
    "    <td>Trivial</td>\n",
    "    <td>-</td>\n",
    "  </tr>\n",
    "  <tr>\n",
    "    <td>Precio</td>\n",
    "    <td>Versión limitada gratis</td>\n",
    "    <td>Versión pagada con más funcionalidades</td>\n",
    "  </tr>\n",
    "  <tr>\n",
    "    <td>Gráficos</td>\n",
    "    <td>Gráficos predefinidos</td>\n",
    "    <td>Gráficos predefinidos</td>\n",
    "  </tr>\n",
    "  <tr>\n",
    "    <td>Datos</td>\n",
    "    <td>-</td>\n",
    "    <td>Sin accceso a datos</td>\n",
    "  </tr>\n",
    "</table>"
   ]
  },
  {
   "cell_type": "markdown",
   "metadata": {
    "slideshow": {
     "slide_type": "slide"
    }
   },
   "source": [
    "##### Conclusión: Encuestas nivel 2\n",
    "\n",
    "<table align=\"left\" style='font-size:120%'>\n",
    "  <tr>\n",
    "    <td><b></b></td>\n",
    "    <td><b>Ventaja</b></td>\n",
    "    <td><b>Desventaja</b></td>\n",
    "  <tr>\n",
    "    <td>Complejidad</td>\n",
    "    <td>Simple</td>\n",
    "    <td></td>\n",
    "  </tr>\n",
    "  <tr>\n",
    "    <td>Precio</td>\n",
    "    <td>Versión gratis es suficiente</td>\n",
    "    <td></td>\n",
    "  </tr>\n",
    "  <tr>\n",
    "    <td>Gráficos</td>\n",
    "    <td>Configurables</td>\n",
    "    <td>Requieren código</td>\n",
    "  </tr>\n",
    "  <tr>\n",
    "    <td>Datos</td>\n",
    "    <td>Con accceso a datos</td>\n",
    "    <td></td>\n",
    "  </tr>\n",
    "</table>"
   ]
  },
  {
   "cell_type": "markdown",
   "metadata": {
    "slideshow": {
     "slide_type": "slide"
    }
   },
   "source": [
    "##### Conclusión: Encuestas nivel 3\n",
    "\n",
    "<table align=\"left\" style='font-size:120%'>\n",
    "  <tr>\n",
    "    <td><b></b></td>\n",
    "    <td><b>Ventaja</b></td>\n",
    "    <td><b>Desventaja</b></td>\n",
    "  <tr>\n",
    "    <td>Complejidad</td>\n",
    "    <td></td>\n",
    "    <td>Bastante complejo. Toma tiempo. Deployment puede ser complejo.</td>\n",
    "  </tr>\n",
    "  <tr>\n",
    "    <td>Precio</td>\n",
    "    <td>Hosting gratis es suficiente</td>\n",
    "    <td>Time=Money?</td>\n",
    "  </tr>\n",
    "  <tr>\n",
    "    <td>Gráficos</td>\n",
    "    <td>Configurables</td>\n",
    "    <td>Hay que configurarlos completamente.</td>\n",
    "  </tr>\n",
    "  <tr>\n",
    "    <td>Datos</td>\n",
    "    <td>Con accceso completo a datos</td>\n",
    "    <td>Hay que almacenar los datos.</td>\n",
    "  </tr>\n",
    "</table>"
   ]
  },
  {
   "cell_type": "markdown",
   "metadata": {
    "slideshow": {
     "slide_type": "slide"
    }
   },
   "source": [
    "##### Conclusión\n",
    "\n",
    "## ¿Preguntas?\n",
    "\n"
   ]
  },
  {
   "cell_type": "markdown",
   "metadata": {
    "slideshow": {
     "slide_type": "fragment"
    }
   },
   "source": [
    "Encuesta sobre la charla: \n",
    "<br>\n",
    "<br>\n",
    "<div style='font-size:200%'> https://bit.ly/2UzrYGU </div>"
   ]
  },
  {
   "cell_type": "markdown",
   "metadata": {},
   "source": [
    "### Retroalimentación\n",
    "\n",
    "Revisando las evaluaciones, alguien sugirió que para las encuestas resulta más fácil agregar (además del enlace) un código QR para abrir la encuesta usando la cámara del celular. Desde entonces, lo he probado y funciona excelente."
   ]
  }
 ],
 "metadata": {
  "celltoolbar": "Slideshow",
  "kernelspec": {
   "display_name": "Python 3",
   "language": "python",
   "name": "python3"
  },
  "language_info": {
   "codemirror_mode": {
    "name": "ipython",
    "version": 3
   },
   "file_extension": ".py",
   "mimetype": "text/x-python",
   "name": "python",
   "nbconvert_exporter": "python",
   "pygments_lexer": "ipython3",
   "version": "3.7.4"
  }
 },
 "nbformat": 4,
 "nbformat_minor": 4
}
